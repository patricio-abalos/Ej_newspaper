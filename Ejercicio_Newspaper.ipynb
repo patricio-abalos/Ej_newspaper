{
 "cells": [
  {
   "cell_type": "code",
   "execution_count": 47,
   "metadata": {},
   "outputs": [],
   "source": [
    "%load_ext autoreload\n",
    "%autoreload 2"
   ]
  },
  {
   "cell_type": "code",
   "execution_count": 3,
   "metadata": {},
   "outputs": [],
   "source": [
    "from ej1 import body"
   ]
  },
  {
   "cell_type": "code",
   "execution_count": 4,
   "metadata": {},
   "outputs": [
    {
     "name": "stdout",
     "output_type": "stream",
     "text": [
      "Counter({'the': 8, 'of': 5, 'and': 3, 'a': 2, 'creative': 2, 'internet': 2, 'class': 2, 'two': 1, 'years': 1, 'ago': 1, 'kenneth': 1, 'goldsmith': 1, 'university': 1, 'pennsylvania': 1, 'poet': 1, 'conceptual': 1, 'artist': 1, 'taught': 1, 'writing': 1, 'course': 1, 'he': 1, 'called': 1, 'wasting': 1, 'time': 1, 'on': 1, 'students': 1, 'would': 1, 'do': 1, 'just': 1, 'that': 1, 'probing': 1, 'tedium': 1, 'but': 1, 'thanks': 1, 'to': 1, 'in': 1, 'use': 1, 'social': 1, 'media': 1, 'also': 1, 'became': 1, 'ferment': 1, 'improvised': 1, 'dance': 1, 'trust': 1, 'experiments': 1, 'inquiries': 1, 'into': 1, 'modern': 1, 'nature': 1, 'self': 1, 'crowd': 1, '': 1})\n"
     ]
    }
   ],
   "source": [
    "body('https://www.nytimes.com/2016/08/07/education/edlife/kenneth-goldsmith-on-wasting-time-on-the-internet.html')"
   ]
  },
  {
   "cell_type": "code",
   "execution_count": null,
   "metadata": {},
   "outputs": [],
   "source": []
  }
 ],
 "metadata": {
  "kernelspec": {
   "display_name": "Python 3.7.4 (Curso_PAE)",
   "language": "python",
   "name": "curso_pae"
  },
  "language_info": {
   "codemirror_mode": {
    "name": "ipython",
    "version": 3
   },
   "file_extension": ".py",
   "mimetype": "text/x-python",
   "name": "python",
   "nbconvert_exporter": "python",
   "pygments_lexer": "ipython3",
   "version": "3.7.4"
  }
 },
 "nbformat": 4,
 "nbformat_minor": 2
}
